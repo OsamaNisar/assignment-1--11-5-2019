{
 "cells": [
  {
   "cell_type": "markdown",
   "metadata": {},
   "source": [
    "# ASSIGNMENT "
   ]
  },
  {
   "cell_type": "markdown",
   "metadata": {},
   "source": [
    "<h3> 1 : Declare and initialize a variable name total_marks with a value 500</h3>\n"
   ]
  },
  {
   "cell_type": "code",
   "execution_count": 13,
   "metadata": {},
   "outputs": [
    {
     "name": "stdout",
     "output_type": "stream",
     "text": [
      "Total Marks: 500\n"
     ]
    }
   ],
   "source": [
    "Total_Marks=500\n",
    "print(\"Total Marks:\",Total_Marks)"
   ]
  },
  {
   "cell_type": "markdown",
   "metadata": {},
   "source": [
    "<h3> 2 : Declare and initialize 5 variables name maths , english , urdu , physics and chemisrty with different integer values</h3>"
   ]
  },
  {
   "cell_type": "code",
   "execution_count": 11,
   "metadata": {},
   "outputs": [
    {
     "name": "stdout",
     "output_type": "stream",
     "text": [
      "subject(s)\t Marks (100)\n",
      "Maths\t\t 98\n",
      "English\t\t 76\n",
      "Urdu\t\t 81\n",
      "Physics\t\t 92\n",
      "Chemistry\t 65\n"
     ]
    }
   ],
   "source": [
    "Maths=98\n",
    "English=76\n",
    "Urdu=81\n",
    "Physics=92\n",
    "Chemistry=65\n",
    "print(\"subject(s)\\t Marks (100)\")\n",
    "print(\"Maths\\t\\t\",Maths)\n",
    "print(\"English\\t\\t\",English)\n",
    "print(\"Urdu\\t\\t\",Urdu)\n",
    "print(\"Physics\\t\\t\",Physics)\n",
    "print(\"Chemistry\\t\",Chemistry)"
   ]
  },
  {
   "cell_type": "markdown",
   "metadata": {},
   "source": [
    "3: Calculate the obtained marks And assign the value In variable name obtained_marks"
   ]
  },
  {
   "cell_type": "code",
   "execution_count": 1,
   "metadata": {},
   "outputs": [
    {
     "name": "stdout",
     "output_type": "stream",
     "text": [
      "Total Marks: 500\n",
      "Marks_Obtained: 412\n"
     ]
    }
   ],
   "source": [
    "Marks_Obtained=(98+76+81+92+65)\n",
    "print(\"Total Marks: 500\")    \n",
    "print(\"Marks_Obtained:\",Marks_Obtained)"
   ]
  },
  {
   "cell_type": "markdown",
   "metadata": {},
   "source": [
    "<h3>4 : Calculate percentage and assign the value in variable name percentage</h3>"
   ]
  },
  {
   "cell_type": "code",
   "execution_count": 16,
   "metadata": {},
   "outputs": [
    {
     "name": "stdout",
     "output_type": "stream",
     "text": [
      "Percentage: 82.39999999999999 %\n"
     ]
    }
   ],
   "source": [
    "Percentage=(Marks_Obtained/500)*100\n",
    "print(\"Percentage:\",Percentage,'%')"
   ]
  },
  {
   "cell_type": "markdown",
   "metadata": {},
   "source": [
    "<h3>5 : Declare and initialize an empty variable name grade </h3>"
   ]
  },
  {
   "cell_type": "code",
   "execution_count": null,
   "metadata": {
    "collapsed": true
   },
   "outputs": [],
   "source": [
    "Grade=None"
   ]
  },
  {
   "cell_type": "markdown",
   "metadata": {},
   "source": [
    "### 6: print your biodata "
   ]
  },
  {
   "cell_type": "code",
   "execution_count": 20,
   "metadata": {},
   "outputs": [
    {
     "name": "stdout",
     "output_type": "stream",
     "text": [
      "NAME: Osama Nisar\n",
      "FATHER NAME: Nisar Ahmed\n",
      "DATE OF BIRTH: 4th oct\n",
      "RELIGION: Islam\n",
      "NATIONALITY: Pakistani\n"
     ]
    }
   ],
   "source": [
    "print(\"NAME: Osama Nisar\")\n",
    "print(\"FATHER NAME: Nisar Ahmed\")\n",
    "print(\"DATE OF BIRTH: 4th oct\")\n",
    "print(\"RELIGION: Islam\")\n",
    "print(\"NATIONALITY: Pakistani\")"
   ]
  },
  {
   "cell_type": "code",
   "execution_count": null,
   "metadata": {},
   "outputs": [],
   "source": []
  }
 ],
 "metadata": {
  "kernelspec": {
   "display_name": "Python 3",
   "language": "python",
   "name": "python3"
  },
  "language_info": {
   "codemirror_mode": {
    "name": "ipython",
    "version": 3
   },
   "file_extension": ".py",
   "mimetype": "text/x-python",
   "name": "python",
   "nbconvert_exporter": "python",
   "pygments_lexer": "ipython3",
   "version": "3.6.5"
  }
 },
 "nbformat": 4,
 "nbformat_minor": 2
}
